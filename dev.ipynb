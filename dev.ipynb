{
 "cells": [
  {
   "cell_type": "markdown",
   "id": "392ab742",
   "metadata": {},
   "source": [
    "# Easy adiabatic state preparation"
   ]
  },
  {
   "cell_type": "code",
   "execution_count": 2,
   "id": "8bfd891d",
   "metadata": {},
   "outputs": [],
   "source": [
    "# import dependencies\n",
    "\n",
    "from ez_adiabatic import *"
   ]
  },
  {
   "cell_type": "code",
   "execution_count": 3,
   "id": "caa87551",
   "metadata": {},
   "outputs": [],
   "source": [
    "n = 3  # Example number of qubits\n",
    "# Example usage\n",
    "z = np.array([[1, 0], [0, -1]])  # Pauli Z operator\n",
    "H_z = sum_of_z(n)\n",
    "eigenvalues, eigenvectors = np.linalg.eigh(H_z)"
   ]
  },
  {
   "cell_type": "code",
   "execution_count": 4,
   "id": "aec60a4b",
   "metadata": {},
   "outputs": [
    {
     "data": {
      "text/plain": [
       "array([1.+0.j, 0.+0.j, 0.+0.j, 0.+0.j, 0.+0.j, 0.+0.j, 0.+0.j, 0.+0.j])"
      ]
     },
     "execution_count": 4,
     "metadata": {},
     "output_type": "execute_result"
    }
   ],
   "source": [
    "eigenvectors[0, :]  # Ground state of the Hamiltonian |0000>"
   ]
  },
  {
   "cell_type": "code",
   "execution_count": 5,
   "id": "201215dd",
   "metadata": {},
   "outputs": [
    {
     "name": "stdout",
     "output_type": "stream",
     "text": [
      "(0.9604268303602348+0.2785324101863056j)\n",
      "True\n",
      "True\n",
      "Random state prepared: 0.9999999999999996\n"
     ]
    }
   ],
   "source": [
    "rand_state = random_state(n)\n",
    "u = dummy_state_prep(rand_state)\n",
    "zero_state = np.zeros(2**n, dtype=np.complex128)\n",
    "zero_state[0] = 1  # |000...0> state\n",
    "# Apply the unitary to prepare the random state\n",
    "prepared_state = u @ zero_state\n",
    "# Verify the prepared state\n",
    "overlap = np.abs(np.dot(prepared_state.conj().T, rand_state))\n",
    "print(\"Random state prepared:\", overlap)"
   ]
  },
  {
   "cell_type": "code",
   "execution_count": 7,
   "id": "57a468ac",
   "metadata": {},
   "outputs": [
    {
     "data": {
      "text/plain": [
       "(8,)"
      ]
     },
     "execution_count": 7,
     "metadata": {},
     "output_type": "execute_result"
    }
   ],
   "source": [
    "rand_state.shape"
   ]
  },
  {
   "cell_type": "code",
   "execution_count": null,
   "id": "38081252",
   "metadata": {},
   "outputs": [],
   "source": []
  },
  {
   "cell_type": "code",
   "execution_count": null,
   "id": "3f744834",
   "metadata": {},
   "outputs": [],
   "source": []
  },
  {
   "cell_type": "code",
   "execution_count": null,
   "id": "c39fd366",
   "metadata": {},
   "outputs": [],
   "source": []
  },
  {
   "cell_type": "code",
   "execution_count": null,
   "id": "554c2467",
   "metadata": {},
   "outputs": [],
   "source": []
  }
 ],
 "metadata": {
  "kernelspec": {
   "display_name": "supersymmer",
   "language": "python",
   "name": "python3"
  },
  "language_info": {
   "codemirror_mode": {
    "name": "ipython",
    "version": 3
   },
   "file_extension": ".py",
   "mimetype": "text/x-python",
   "name": "python",
   "nbconvert_exporter": "python",
   "pygments_lexer": "ipython3",
   "version": "3.11.10"
  }
 },
 "nbformat": 4,
 "nbformat_minor": 5
}
