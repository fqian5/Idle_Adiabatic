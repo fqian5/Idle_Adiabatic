{
 "cells": [
  {
   "cell_type": "code",
   "execution_count": 1,
   "metadata": {},
   "outputs": [],
   "source": [
    "from pyscf import ao2mo, scf, gto, fci\n",
    "from openfermion import get_sparse_operator, FermionOperator, jordan_wigner\n",
    "import numpy as np\n",
    "import scipy as sp"
   ]
  },
  {
   "cell_type": "code",
   "execution_count": 2,
   "metadata": {},
   "outputs": [
    {
     "data": {
      "text/plain": [
       "np.float64(-98.57048973900105)"
      ]
     },
     "execution_count": 2,
     "metadata": {},
     "output_type": "execute_result"
    }
   ],
   "source": [
    "## define single F atom!\n",
    "mol_F = gto.Mole()\n",
    "\n",
    "basis_set = 'sto-3g'\n",
    "mol_F.atom = [('H', (0, 0, 0)),\n",
    "              ('F', (0, 0, 1))\n",
    "              ]\n",
    "\n",
    "mol_F.basis = basis_set\n",
    "mol_F.spin = 0 # <-- number of alpha e- minus number of beta e-\n",
    "mol_F.build()\n",
    "mol_F.verbose=1\n",
    "\n",
    "### run HF\n",
    "rhf_object = scf.RHF(mol_F)\n",
    "rhf_object.kernel()"
   ]
  },
  {
   "cell_type": "code",
   "execution_count": 3,
   "metadata": {},
   "outputs": [
    {
     "data": {
      "text/plain": [
       "np.int64(12)"
      ]
     },
     "execution_count": 3,
     "metadata": {},
     "output_type": "execute_result"
    }
   ],
   "source": [
    "rhf_object.mol.nao*2"
   ]
  },
  {
   "cell_type": "code",
   "execution_count": 4,
   "metadata": {},
   "outputs": [
    {
     "data": {
      "text/plain": [
       "np.float64(-98.6032745544027)"
      ]
     },
     "execution_count": 4,
     "metadata": {},
     "output_type": "execute_result"
    }
   ],
   "source": [
    "fci_obj = fci.FCI(rhf_object)\n",
    "fci_obj.kernel()\n",
    "fci_obj.e_tot"
   ]
  },
  {
   "cell_type": "code",
   "execution_count": 5,
   "metadata": {},
   "outputs": [],
   "source": [
    "from pyscf import lo\n",
    "\n",
    "## NOT cannonical ORBS\n",
    "S_AO = rhf_object.get_ovlp()\n",
    "C_mat = lo.orth.lowdin(S_AO)"
   ]
  },
  {
   "cell_type": "code",
   "execution_count": 6,
   "metadata": {},
   "outputs": [],
   "source": [
    "# ## cannonical orbs\n",
    "# C_mat = rhf_object.mo_coeff"
   ]
  },
  {
   "cell_type": "code",
   "execution_count": null,
   "metadata": {},
   "outputs": [],
   "source": []
  },
  {
   "cell_type": "code",
   "execution_count": 7,
   "metadata": {},
   "outputs": [
    {
     "data": {
      "text/plain": [
       "True"
      ]
     },
     "execution_count": 7,
     "metadata": {},
     "output_type": "execute_result"
    }
   ],
   "source": [
    "### condition for valid ORBS:\n",
    "# if False then BAD!\n",
    "\n",
    "np.allclose(C_mat.T @ S_AO @ C_mat, np.eye(rhf_object.mol.nao))"
   ]
  },
  {
   "cell_type": "code",
   "execution_count": 8,
   "metadata": {},
   "outputs": [],
   "source": [
    "def get_integrals(rhf_obj, C_mat):\n",
    "    hcore_ao = rhf_obj.get_hcore()\n",
    "    hcore_MO_spatial = C_mat.T @ hcore_ao @ C_mat\n",
    "\n",
    "    ## manual\n",
    "    ERI_AO = rhf_obj.mol.intor('int2e')\n",
    "    tmp = np.einsum('pi,pqrs->iqrs', C_mat, ERI_AO, optimize=True)\n",
    "    tmp = np.einsum('qa,iqrs->iars', C_mat, tmp, optimize=True)\n",
    "    tmp = np.einsum('iars,rj->iajs', tmp, C_mat, optimize=True)\n",
    "    eri_MO_spatial = np.einsum('iajs,sb->iajb', tmp, C_mat, optimize=True)\n",
    "\n",
    "    ## pyscf version!\n",
    "    # eri_MO_spatial2 = ao2mo.kernel(rhf_object.mol, C_mat)\n",
    "    # np.allclose(eri_MO_spatial, eri_MO_spatial2)\n",
    "\n",
    "    return hcore_MO_spatial, eri_MO_spatial\n",
    "\n",
    "\n",
    "def get_spin_integrals(rhf_obj, hcore_MO_spatial, eri_MO_spatial):\n",
    "    # next convert into spatial to spin\n",
    "    n_spatial = rhf_obj.mol.nao # number of atomic orbitals\n",
    "\n",
    "    n_spin = 2*n_spatial # two times for spin up and down!\n",
    "\n",
    "    h_core_spin = np.zeros((n_spin, n_spin))\n",
    "    eri_spin_chemist = np.zeros((n_spin, n_spin, n_spin, n_spin))\n",
    "    for p in range(n_spatial):\n",
    "        for q in range(n_spatial):\n",
    "            #even indices are SPIN UP!\n",
    "            h_core_spin[2*p,\n",
    "                        2*q] = hcore_MO_spatial[p,q]\n",
    "            \n",
    "            # odd indices are SPIN DOWN!\n",
    "            h_core_spin[2*p+1,\n",
    "                        2*q+1] = hcore_MO_spatial[p,q]\n",
    "            # note as restricted calc spin up and down are the same!\n",
    "            for r in range(n_spatial):\n",
    "                for s in range(n_spatial):\n",
    "                    MO_spatial_term = eri_MO_spatial[p,q,r,s]\n",
    "                    \n",
    "                    # up, up, up, up\n",
    "                    eri_spin_chemist[2*p, 2*q, \n",
    "                                    2*r, 2*s] = MO_spatial_term\n",
    "                    \n",
    "                    # down, down, down, down\n",
    "                    eri_spin_chemist[2*p+1, 2*q+1,\n",
    "                                    2*r+1, 2*s+1] = MO_spatial_term\n",
    "                    \n",
    "                    # mixed # <-- different here\n",
    "                    eri_spin_chemist[2*p, 2*q, \n",
    "                                    2*r+1, 2*s+1] = MO_spatial_term\n",
    "                    \n",
    "                    # mixed <-- different here\n",
    "                    eri_spin_chemist[2*p+1, 2*q+1,\n",
    "                                    2*r, 2*s] = MO_spatial_term\n",
    "                    \n",
    "                    # other terms go to ZERO!\n",
    "    return h_core_spin, eri_spin_chemist\n",
    "\n",
    "def build_H(rhf_obj, hcore_spin, eri_spin):\n",
    "\n",
    "    n_spin = rhf_obj.mol.nao*2\n",
    "    CONSTANT_nuclear_energy = rhf_obj.energy_nuc()\n",
    "    fermionic_H_chemist = FermionOperator('', CONSTANT_nuclear_energy)\n",
    "\n",
    "    for p in range(n_spin):\n",
    "        for q in range(n_spin):\n",
    "            h_pq = hcore_spin[p,q]\n",
    "            fermionic_H_chemist+= FermionOperator(f'{p}^ {q}', h_pq)\n",
    "            \n",
    "            for r in range(n_spin):\n",
    "                for s in range(n_spin):\n",
    "                    g_pqrs = eri_spin[p,q,r,s]\n",
    "                    fermionic_H_chemist += 0.5* FermionOperator(f'{p}^ {r}^ {s} {q}', g_pqrs)\n",
    "    \n",
    "    return fermionic_H_chemist\n"
   ]
  },
  {
   "cell_type": "code",
   "execution_count": 9,
   "metadata": {},
   "outputs": [],
   "source": [
    "hcore_MO_spatial, eri_MO_spatial = get_integrals(rhf_object, C_mat)\n",
    "hcore_MO_spin, eri_MO_spin = get_spin_integrals(rhf_object, hcore_MO_spatial, eri_MO_spatial)\n",
    "molecule_Ham1 = build_H(rhf_object, hcore_MO_spin, eri_MO_spin)"
   ]
  },
  {
   "cell_type": "code",
   "execution_count": null,
   "metadata": {},
   "outputs": [],
   "source": []
  },
  {
   "cell_type": "code",
   "execution_count": null,
   "metadata": {},
   "outputs": [],
   "source": []
  },
  {
   "cell_type": "code",
   "execution_count": 10,
   "metadata": {},
   "outputs": [],
   "source": [
    "def build_K_mat(kappa, n_qubits):\n",
    "    assert len(kappa) == (n_qubits*(n_qubits-1)//2), 'kappa vector is the wrong length'\n",
    "    K = np.zeros((n_qubits,n_qubits), dtype=float)\n",
    "\n",
    "    K[np.triu_indices(K.shape[0], k=1)] = kappa\n",
    "    K += -K.conj().T\n",
    "\n",
    "    return K"
   ]
  },
  {
   "cell_type": "code",
   "execution_count": 24,
   "metadata": {},
   "outputs": [],
   "source": [
    "dim = rhf_object.mol.nao \n",
    "kappa_random = np.random.rand(dim*(dim-1)//2) # <--- random kappa vector\n"
   ]
  },
  {
   "cell_type": "code",
   "execution_count": 12,
   "metadata": {},
   "outputs": [],
   "source": [
    "## build kappa vector manual!\n",
    "kappa_random = np.zeros(dim*(dim-1)//2, dtype=np.float64)\n",
    "kappa_random[0] = 1\n",
    "kappa_random[1] = 2\n"
   ]
  },
  {
   "cell_type": "code",
   "execution_count": 25,
   "metadata": {},
   "outputs": [],
   "source": [
    "K_mat = build_K_mat(kappa_random, dim)\n",
    "multi_factor = 1\n",
    "U = sp.linalg.expm(-K_mat*multi_factor)"
   ]
  },
  {
   "cell_type": "code",
   "execution_count": 26,
   "metadata": {},
   "outputs": [],
   "source": [
    "C_mat_NEW = C_mat @ U\n",
    "assert np.allclose(C_mat_NEW.T @ S_AO @ C_mat_NEW, np.eye(rhf_object.mol.nao)), 'not a valid basis!'"
   ]
  },
  {
   "cell_type": "code",
   "execution_count": 27,
   "metadata": {},
   "outputs": [],
   "source": [
    "hcore_MO_spatial, eri_MO_spatial = get_integrals(rhf_object, \n",
    "                                                 C_mat_NEW)\n",
    "hcore_MO_spin, eri_MO_spin = get_spin_integrals(rhf_object, hcore_MO_spatial, eri_MO_spatial)\n",
    "molecule_Ham2 = build_H(rhf_object, hcore_MO_spin, eri_MO_spin)"
   ]
  },
  {
   "cell_type": "code",
   "execution_count": 28,
   "metadata": {},
   "outputs": [
    {
     "data": {
      "text/plain": [
       "(1861, 5257)"
      ]
     },
     "execution_count": 28,
     "metadata": {},
     "output_type": "execute_result"
    }
   ],
   "source": [
    "len(list(molecule_Ham1)), len(list(molecule_Ham2))"
   ]
  },
  {
   "cell_type": "code",
   "execution_count": 29,
   "metadata": {},
   "outputs": [
    {
     "data": {
      "text/plain": [
       "array([-98.60327455])"
      ]
     },
     "execution_count": 29,
     "metadata": {},
     "output_type": "execute_result"
    }
   ],
   "source": [
    "H_mat1 = get_sparse_operator(molecule_Ham1)\n",
    "eigvals1, eigvecs1 = sp.sparse.linalg.eigsh(H_mat1, which='SA', k=1)\n",
    "eigvals1"
   ]
  },
  {
   "cell_type": "code",
   "execution_count": 30,
   "metadata": {},
   "outputs": [
    {
     "data": {
      "text/plain": [
       "array([-98.60327455])"
      ]
     },
     "execution_count": 30,
     "metadata": {},
     "output_type": "execute_result"
    }
   ],
   "source": [
    "H_mat2 = get_sparse_operator(molecule_Ham2)\n",
    "eigvals2, eigvecs2 = sp.sparse.linalg.eigsh(H_mat2, which='SA', k=1)\n",
    "eigvals2"
   ]
  },
  {
   "cell_type": "code",
   "execution_count": 31,
   "metadata": {},
   "outputs": [
    {
     "data": {
      "text/plain": [
       "np.float64(-98.6032745544027)"
      ]
     },
     "execution_count": 31,
     "metadata": {},
     "output_type": "execute_result"
    }
   ],
   "source": [
    "## solution\n",
    "fci_obj.e_tot"
   ]
  },
  {
   "cell_type": "code",
   "execution_count": 32,
   "metadata": {},
   "outputs": [
    {
     "data": {
      "text/plain": [
       "array([-9.37916411e-13])"
      ]
     },
     "execution_count": 32,
     "metadata": {},
     "output_type": "execute_result"
    }
   ],
   "source": [
    "eigvals1 - eigvals2"
   ]
  },
  {
   "cell_type": "code",
   "execution_count": 33,
   "metadata": {},
   "outputs": [
    {
     "data": {
      "text/plain": [
       "array([3.41060513e-13])"
      ]
     },
     "execution_count": 33,
     "metadata": {},
     "output_type": "execute_result"
    }
   ],
   "source": [
    "fci_obj.e_tot- eigvals2"
   ]
  },
  {
   "cell_type": "code",
   "execution_count": 34,
   "metadata": {},
   "outputs": [],
   "source": [
    "H1q = jordan_wigner(molecule_Ham1)\n",
    "H2q = jordan_wigner(molecule_Ham2)"
   ]
  },
  {
   "cell_type": "code",
   "execution_count": 35,
   "metadata": {},
   "outputs": [
    {
     "data": {
      "text/plain": [
       "(np.float64(137.65570531935384), np.float64(274.5738419814479))"
      ]
     },
     "execution_count": 35,
     "metadata": {},
     "output_type": "execute_result"
    }
   ],
   "source": [
    "H1_norm = np.abs(list(H1q.terms.values())).sum()\n",
    "H2_norm = np.abs(list(H2q.terms.values())).sum()\n",
    "\n",
    "H1_norm, H2_norm"
   ]
  },
  {
   "cell_type": "code",
   "execution_count": null,
   "metadata": {},
   "outputs": [],
   "source": []
  },
  {
   "cell_type": "code",
   "execution_count": null,
   "metadata": {},
   "outputs": [],
   "source": []
  },
  {
   "cell_type": "code",
   "execution_count": null,
   "metadata": {},
   "outputs": [],
   "source": []
  },
  {
   "cell_type": "code",
   "execution_count": null,
   "metadata": {},
   "outputs": [],
   "source": []
  }
 ],
 "metadata": {
  "kernelspec": {
   "display_name": "supersymmer",
   "language": "python",
   "name": "python3"
  },
  "language_info": {
   "codemirror_mode": {
    "name": "ipython",
    "version": 3
   },
   "file_extension": ".py",
   "mimetype": "text/x-python",
   "name": "python",
   "nbconvert_exporter": "python",
   "pygments_lexer": "ipython3",
   "version": "3.11.10"
  }
 },
 "nbformat": 4,
 "nbformat_minor": 2
}
