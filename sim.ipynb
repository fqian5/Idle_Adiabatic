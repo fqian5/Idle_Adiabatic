{
 "cells": [
  {
   "cell_type": "code",
   "execution_count": 1,
   "metadata": {},
   "outputs": [
    {
     "name": "stderr",
     "output_type": "stream",
     "text": [
      "/Users/qianfeng/anaconda3/envs/ez_adiabatic/lib/python3.10/site-packages/tqdm/auto.py:21: TqdmWarning: IProgress not found. Please update jupyter and ipywidgets. See https://ipywidgets.readthedocs.io/en/stable/user_install.html\n",
      "  from .autonotebook import tqdm as notebook_tqdm\n"
     ]
    }
   ],
   "source": [
    "import numpy as np\n",
    "import os\n",
    "import json\n",
    "from symmer.operators import PauliwordOp, QuantumState\n",
    "from openfermionpyscf import run_pyscf\n",
    "from openfermion import (\n",
    "    MolecularData,\n",
    "    get_fermion_operator,\n",
    "    jordan_wigner,\n",
    "    QubitOperator,\n",
    ")"
   ]
  },
  {
   "cell_type": "markdown",
   "metadata": {},
   "source": [
    "# DMRG scratch  "
   ]
  },
  {
   "cell_type": "code",
   "execution_count": 7,
   "metadata": {},
   "outputs": [],
   "source": [
    "H_dict = {'IIIIIIII': -331.6627801640259,\n",
    " 'ZIIIIIII': 59.14285951244939,\n",
    " 'IIIIZIII': 3.7005815842211165,\n",
    " 'ZIIIZIII': 2.7020254935585193,\n",
    " 'IIZZIZZI': 1.9635309597930315,\n",
    " 'IZZZIZZI': 1.9635309597930315,\n",
    " 'IZIZIIIZ': 1.732260512565561,\n",
    " 'IIIZIIII': 1.732260512565561,\n",
    " 'IIZIIIII': 1.5468861329893158,\n",
    " 'IIZIIIIZ': 1.5468861329893158,\n",
    " 'IIIIIZIZ': 1.4073777879209017,\n",
    " 'IIIIIZII': 1.4073777879209017,\n",
    " 'IIIIZIZI': 1.3404217351344991,\n",
    " 'IIIIZIZZ': 1.3404217351344991,\n",
    " 'ZZZZIZZI': 1.2108384691287002,\n",
    " 'ZIZZIZZI': 1.2108384691287002,\n",
    " 'ZZIZIIIZ': 1.1946603634944104,\n",
    " 'ZIIZIIII': 1.1946603634944104,\n",
    " 'ZIIIIZII': 1.137191563579775,\n",
    " 'ZIIIIZIZ': 1.137191563579775,\n",
    " 'ZIIIZIZZ': 1.1074837005945546,\n",
    " 'ZIIIZIZI': 1.1074837005945546,\n",
    " 'ZIZIIIIZ': 1.0011909144993059,\n",
    " 'ZIZIIIII': 1.0011909144993059,\n",
    " 'IIIIIIIZ': 0.35931159476541924,\n",
    " 'IIZIZIZZ': 0.22940053426868903,\n",
    " 'IIZIIZIZ': 0.22674915820215394,\n",
    " 'IIIIZZZZ': 0.22207625340938322,\n",
    " 'IZIZZIIZ': 0.21943218298175432,\n",
    " 'IIIZZIII': 0.21943218298175432,\n",
    " 'IZZZZZZI': 0.21601509950649592,\n",
    " 'IIZZZZZI': 0.21601509950649592,\n",
    " 'IIIIZZIZ': 0.21004926749237246,\n",
    " 'IIIIZZII': 0.21004926749237246,\n",
    " 'IIIIIIZZ': 0.20376338540543765,\n",
    " 'IIIIIIZI': 0.20376338540543765,\n",
    " 'IIZIZIII': 0.19899545818630215,\n",
    " 'IIZIZIIZ': 0.19899545818630215,\n",
    " 'IIZIZIZI': 0.19226048056278983,\n",
    " 'IXIZIIIZ': -0.18424713415832522,\n",
    " 'IYZYIZZZ': -0.18424713415832522,\n",
    " 'IYIYIIIZ': 0.18424713415832522,\n",
    " 'IXZZIZZI': 0.18424713415832522,\n",
    " 'IIIIZZZI': 0.17490964925475866,\n",
    " 'IIZIIZII': 0.17290816128135972,\n",
    " 'ZXZZIZZI': 0.14980884928504118,\n",
    " 'ZXIZIIIZ': -0.14980884928504118,\n",
    " 'ZYIYIIIZ': 0.14980884928504118,\n",
    " 'ZYZYIZZZ': -0.14980884928504118,\n",
    " 'IZIIIIIZ': 0.12456282253094157,\n",
    " 'IZIIIIII': 0.12241970176288293,\n",
    " 'IZZZZZII': 0.1167237531103278,\n",
    " 'IIZZZZIZ': 0.1167237531103278,\n",
    " 'IIIZIZZZ': 0.11375825228913318,\n",
    " 'IZIZIZZI': 0.11375825228913318,\n",
    " 'IZZZIIZI': 0.11212728151896593,\n",
    " 'IIZZIIZZ': 0.11212728151896593,\n",
    " 'IZZIIZZI': 0.10967083607230381,\n",
    " 'IZZIIZZZ': 0.10967083607230381,\n",
    " 'IIIZIZIZ': 0.10850754894478629,\n",
    " 'IZIZIZIZ': 0.10850754894478629,\n",
    " 'IZIZZIZZ': 0.10292588625038213,\n",
    " 'IIIZZIZZ': 0.10292588625038213,\n",
    " 'IIZZIIIZ': 0.10109069984753483,\n",
    " 'IZZZIIIZ': 0.10109069984753483,\n",
    " 'IIZZZZII': 0.09947616362119364,\n",
    " 'IZZZZZIZ': 0.09947616362119364,\n",
    " 'IIZZIIZI': 0.09929471396012568,\n",
    " 'IZZZIIZZ': 0.09929471396012568,\n",
    " 'IZIZIZII': 0.0902840628368186,\n",
    " 'IIIZIZII': 0.0902840628368186,\n",
    " 'IIZZIIII': 0.08821500249094744,\n",
    " 'IZZZIIII': 0.08821500249094744,\n",
    " 'IIZIIZZI': 0.08772793533735668,\n",
    " 'IIZIIZZZ': 0.08772793533735668,\n",
    " 'IIIZZIZI': 0.087274913674766,\n",
    " 'IZIZZIZI': 0.087274913674766,\n",
    " 'IIIZIZZI': 0.08381227450623872,\n",
    " 'IZIZIZZZ': 0.08381227450623872,\n",
    " 'IIXIIXIZ': 0.053840996920794214,\n",
    " 'IIYIIYIZ': 0.053840996920794214,\n",
    " 'IIIIIXXZ': 0.04716660415462457,\n",
    " 'IIIIZYYZ': 0.04716660415462457,\n",
    " 'IIXIIIXZ': 0.03714005370589919,\n",
    " 'IIYIZIYZ': 0.03714005370589919,\n",
    " 'IIXZIZZZ': 0.029945977782894453,\n",
    " 'IIXIIIIZ': -0.029945977782894453,\n",
    " 'IZXZIZZI': 0.029945977782894453,\n",
    " 'IZXIIIII': -0.029945977782894453,\n",
    " 'IIZZYZYI': -0.022863721025023015,\n",
    " 'IZIIXIXI': -0.022863721025023015,\n",
    " 'IIIIXIXI': -0.022863721025023015,\n",
    " 'IZZZYZYI': -0.022863721025023015,\n",
    " 'IZIXIIIZ': -0.02194290073494714,\n",
    " 'IZZXIZZZ': 0.02194290073494714,\n",
    " 'IZIXIIII': -0.02194290073494714,\n",
    " 'IZZXIZZI': 0.02194290073494714,\n",
    " 'IYYZIIZX': 0.021463213095809414,\n",
    " 'IXZIZXYY': -0.021463213095809414,\n",
    " 'IXZIIYXY': 0.021463213095809414,\n",
    " 'IYZZZYXX': 0.021463213095809414,\n",
    " 'IYZZIXYX': -0.021463213095809414,\n",
    " 'IYYIZIZX': 0.021463213095809414,\n",
    " 'IYYIIZIX': -0.021463213095809414,\n",
    " 'IYYZZZIX': -0.021463213095809414,\n",
    " 'IIIXIXIZ': 0.01822348610796769,\n",
    " 'IZIXIXIZ': 0.01822348610796769,\n",
    " 'IZIYIYIZ': 0.01822348610796769,\n",
    " 'IIIYIYIZ': 0.01822348610796769,\n",
    " 'IIZZZZXZ': 0.017247589489134154,\n",
    " 'IZIIIIXI': -0.017247589489134154,\n",
    " 'IZZZZZXI': 0.017247589489134154,\n",
    " 'IIIIIIXZ': -0.017247589489134154,\n",
    " 'IIZXZIYY': 0.016122826323587348,\n",
    " 'IZXIZYZY': -0.016122826323587348,\n",
    " 'IIXZIYIY': 0.016122826323587348,\n",
    " 'IIYZIXIY': -0.016122826323587348,\n",
    " 'IIIXZZYY': -0.016122826323587348,\n",
    " 'IZYIZXZY': 0.016122826323587348,\n",
    " 'IIZYIIXY': -0.016122826323587348,\n",
    " 'IIIYIZXY': 0.016122826323587348,\n",
    " 'IZIXIIXZ': 0.01565097257561613,\n",
    " 'IZIYZIYZ': 0.01565097257561613,\n",
    " 'IIIYZIYZ': 0.01565097257561613,\n",
    " 'IIIXIIXZ': 0.01565097257561613,\n",
    " 'IIIZIYXY': -0.014640938019707818,\n",
    " 'IIIZZXYY': 0.014640938019707818,\n",
    " 'IIYXZIZY': -0.014640938019707818,\n",
    " 'IIXYZIZY': 0.014640938019707818,\n",
    " 'IIYXIZIY': 0.014640938019707818,\n",
    " 'IIXYIZIY': -0.014640938019707818,\n",
    " 'IZZIIYXY': 0.014640938019707818,\n",
    " 'IZZIZXYY': -0.014640938019707818,\n",
    " 'IXZIIZZI': 0.013859045913385803,\n",
    " 'IXIXIIII': -0.013859045913385803,\n",
    " 'IXIIIIIZ': -0.013859045913385803,\n",
    " 'IXZXIZZI': 0.013859045913385803,\n",
    " 'IXZZZZII': -0.013680140485373403,\n",
    " 'IYZYZZII': 0.013680140485373403,\n",
    " 'IXIZZIZZ': 0.013680140485373403,\n",
    " 'IYIYZIZI': -0.013680140485373403,\n",
    " 'IXIZZIIZ': -0.013625580921721765,\n",
    " 'IYIYZIIZ': 0.013625580921721765,\n",
    " 'IYZYZZZZ': -0.013625580921721765,\n",
    " 'IXZZZZZI': 0.013625580921721765,\n",
    " 'IZXIZZYY': 0.013019130649537268,\n",
    " 'IZYIIZXY': -0.013019130649537268,\n",
    " 'IIIXZYZY': 0.013019130649537268,\n",
    " 'IIZXIYIY': -0.013019130649537268,\n",
    " 'IIZYIXIY': 0.013019130649537268,\n",
    " 'IIIYZXZY': -0.013019130649537268,\n",
    " 'IIXZZIYY': -0.013019130649537268,\n",
    " 'IIYZIIXY': 0.013019130649537268,\n",
    " 'IYYZZYXY': -0.01294529784897434,\n",
    " 'IXZIIZIX': 0.01294529784897434,\n",
    " 'IYYIIYXY': -0.01294529784897434,\n",
    " 'IYZZZZIY': -0.01294529784897434,\n",
    " 'IZXXIIIZ': 0.012875697356587388,\n",
    " 'IZYYIIIZ': 0.012875697356587388,\n",
    " 'IIXXIIIZ': 0.012875697356587388,\n",
    " 'IIYYIIIZ': 0.012875697356587388,\n",
    " 'IIIIIXIZ': -0.01283256755884025,\n",
    " 'IIZZIXZZ': 0.01283256755884025,\n",
    " 'IZIIIXII': -0.01283256755884025,\n",
    " 'IZZZIXZI': 0.01283256755884025,\n",
    " 'IYIZIZYX': 0.011416770468494746,\n",
    " 'IXYIZXZY': 0.011416770468494746,\n",
    " 'IXXIZYZY': -0.011416770468494746,\n",
    " 'IYXZIYZX': -0.011416770468494746,\n",
    " 'IYZIZIYX': -0.011416770468494746,\n",
    " 'IYIIZZYX': 0.011416770468494746,\n",
    " 'IYYZIXZX': 0.011416770468494746,\n",
    " 'IYZZIIYX': -0.011416770468494746,\n",
    " 'IXYYIIIZ': 0.010841451228922843,\n",
    " 'IXXXIIIZ': 0.010841451228922843,\n",
    " 'IXXZIZZI': -0.010841451228922843,\n",
    " 'IYXYIZZI': 0.010841451228922843,\n",
    " 'IYYXIZZI': -0.010841451228922843,\n",
    " 'IYYIIZZI': -0.010841451228922843,\n",
    " 'IYYZIIII': 0.010841451228922843,\n",
    " 'IXXIIIII': 0.010841451228922843,\n",
    " 'IIIYYIXI': 0.010619097784979567,\n",
    " 'IZIYYIXZ': 0.010619097784979567,\n",
    " 'IZIXXIXZ': 0.010619097784979567,\n",
    " 'IIIXXIXI': 0.010619097784979567,\n",
    " 'IXZZIIIZ': 0.010116301840077255,\n",
    " 'IYIYIZZI': 0.010116301840077255,\n",
    " 'IYZYIIII': -0.010116301840077255,\n",
    " 'IXIZIZZI': -0.010116301840077255,\n",
    " 'IYYIZXYY': 0.010046442627314668,\n",
    " 'IXZIZIZX': -0.010046442627314668,\n",
    " 'IYZZIIZY': 0.010046442627314668,\n",
    " 'IYYZIXYY': 0.010046442627314668,\n",
    " 'IXIIXIXI': -0.009941525025486944,\n",
    " 'IYZIXZYZ': 0.009941525025486944,\n",
    " 'IYIZYIXZ': -0.009941525025486944,\n",
    " 'IYZYYZYZ': 0.009941525025486944,\n",
    " 'IXIXXIXZ': -0.009941525025486944,\n",
    " 'IXIYYIXZ': -0.009941525025486944,\n",
    " 'IYZXXZYZ': 0.009941525025486944,\n",
    " 'IXZZYZYI': -0.009941525025486944,\n",
    " 'IXIIIIXI': 0.008561816195267967,\n",
    " 'IXIXIIXZ': 0.008561816195267967,\n",
    " 'IYZYZZXI': 0.008561816195267967,\n",
    " 'IYZXIZYI': -0.008561816195267967,\n",
    " 'IXZZZZXI': -0.008561816195267967,\n",
    " 'IYZIIZYI': -0.008561816195267967,\n",
    " 'IYIZZIYI': 0.008561816195267967,\n",
    " 'IXIYZIYZ': 0.008561816195267967,\n",
    " 'IXYIIZXY': -0.008517915246835074,\n",
    " 'IXXIZZYY': 0.008517915246835074,\n",
    " 'IYZIIYIX': 0.008517915246835074,\n",
    " 'IYZZZYIX': 0.008517915246835074,\n",
    " 'IYIIZYZX': -0.008517915246835074,\n",
    " 'IYIZIYZX': -0.008517915246835074,\n",
    " 'IYXZIZYX': 0.008517915246835074,\n",
    " 'IYYZZZXX': -0.008517915246835074,\n",
    " 'IIIIXIZZ': -0.00798791851232929,\n",
    " 'IIIIXIIZ': 0.00798791851232929,\n",
    " 'IIIIXIZI': -0.00798791851232929,\n",
    " 'IIIIXIII': 0.00798791851232929,\n",
    " 'IYIYZIZZ': -0.005118324290105437,\n",
    " 'IYZYZZIZ': 0.005118324290105437,\n",
    " 'IXIZZIZI': 0.005118324290105437,\n",
    " 'IXZZZZIZ': -0.005118324290105437,\n",
    " 'IIIIXXXI': 0.004922217324928143,\n",
    " 'IIIIYYXI': 0.004922217324928143,\n",
    " 'IIIIXXXZ': 0.004922217324928143,\n",
    " 'IIIIYYXZ': 0.004922217324928143,\n",
    " 'IXZIIZZZ': 0.004532725799902782,\n",
    " 'IXZXIZZZ': 0.004532725799902782,\n",
    " 'IXIIIIII': -0.004532725799902782,\n",
    " 'IXIXIIIZ': -0.004532725799902782,\n",
    " 'IIXIXIXI': 0.0041656403961984395,\n",
    " 'IIYIYIXI': 0.0041656403961984395,\n",
    " 'IIYIYIXZ': 0.0041656403961984395,\n",
    " 'IIXIXIXZ': 0.0041656403961984395,\n",
    " 'IIZZIIIX': -0.0031036956740500797,\n",
    " 'IIXXZYYX': 0.0031036956740500797,\n",
    " 'IZIIZZZX': -0.0031036956740500797,\n",
    " 'IIYYIXXX': 0.0031036956740500797,\n",
    " 'IYXZIYYY': 0.002898855221659672,\n",
    " 'IYXIZYYY': 0.002898855221659672,\n",
    " 'IYIZIZZY': 0.002898855221659672,\n",
    " 'IXIIZZZX': -0.002898855221659672,\n",
    " 'IXIXIXIZ': -0.002292255652622805,\n",
    " 'IYZIIYZI': 0.002292255652622805,\n",
    " 'IXZZIXZI': 0.002292255652622805,\n",
    " 'IXIIIXII': -0.002292255652622805,\n",
    " 'IYIZIYII': -0.002292255652622805,\n",
    " 'IYZXIYZI': 0.002292255652622805,\n",
    " 'IYZYIXZI': -0.002292255652622805,\n",
    " 'IXIYIYIZ': -0.002292255652622805,\n",
    " 'IYZYIIZZ': 0.0021856635810229017,\n",
    " 'IXZZIIZZ': -0.0021856635810229017,\n",
    " 'IYIYIZIZ': -0.0021856635810229017,\n",
    " 'IXIZIZII': 0.0021856635810229017,\n",
    " 'IIYXIYXX': -0.0016218073701705499,\n",
    " 'IIXYZXYX': -0.0016218073701705499,\n",
    " 'IIIZZIZX': 0.0016218073701705499,\n",
    " 'IZZIIZIX': 0.0016218073701705499,\n",
    " 'IIXYIYXX': -0.0014818883038795298,\n",
    " 'IZZIZIZX': 0.0014818883038795298,\n",
    " 'IIYXZXYX': -0.0014818883038795298,\n",
    " 'IIIZIZIX': 0.0014818883038795298,\n",
    " 'IXIZIZZZ': 0.0007251493888455873,\n",
    " 'IXZZIIII': -0.0007251493888455873,\n",
    " 'IYZYIIIZ': 0.0007251493888455873,\n",
    " 'IYIYIZZZ': -0.0007251493888455873,\n",
    " 'IXZZIIZI': 0.00010659207159990329,\n",
    " 'IYZYIIZI': -0.00010659207159990329,\n",
    " 'IXIZIZIZ': -0.00010659207159990329,\n",
    " 'IYIYIZII': 0.00010659207159990329}"
   ]
  },
  {
   "cell_type": "code",
   "execution_count": 9,
   "metadata": {},
   "outputs": [],
   "source": [
    "H_matrix = PauliwordOp.from_dictionary(H_dict).to_sparse_matrix.todense()\n",
    "H_pauli = PauliwordOp.from_dictionary(H_dict)"
   ]
  },
  {
   "cell_type": "code",
   "execution_count": 10,
   "metadata": {},
   "outputs": [],
   "source": [
    "eigenvalues, eigenvectors = np.linalg.eigh(H_matrix)"
   ]
  },
  {
   "cell_type": "code",
   "execution_count": 11,
   "metadata": {},
   "outputs": [
    {
     "data": {
      "text/plain": [
       "np.float64(-394.3538432576691)"
      ]
     },
     "execution_count": 11,
     "metadata": {},
     "output_type": "execute_result"
    }
   ],
   "source": [
    "ref_E = eigenvalues[0]\n",
    "ref_E"
   ]
  },
  {
   "cell_type": "code",
   "execution_count": 13,
   "metadata": {},
   "outputs": [],
   "source": [
    "from quimb.experimental.operatorbuilder import SparseOperatorBuilder\n",
    "builder = SparseOperatorBuilder()\n",
    "for bitstring, coeff in H_dict.items():\n",
    "    ops = bitstring.lower()\n",
    "    #ops = bitstring\n",
    "    term = [\n",
    "        (op,i) \n",
    "        for i, op in enumerate(ops)\n",
    "        if op != 'i' \n",
    "    ]\n",
    "    #print(term)\n",
    "    builder.add_term(coeff, *term)\n",
    "\n",
    "H_mpo = builder.build_mpo()"
   ]
  },
  {
   "cell_type": "code",
   "execution_count": 14,
   "metadata": {},
   "outputs": [
    {
     "ename": "NameError",
     "evalue": "name 'dmrg_solver' is not defined",
     "output_type": "error",
     "traceback": [
      "\u001b[0;31m---------------------------------------------------------------------------\u001b[0m",
      "\u001b[0;31mNameError\u001b[0m                                 Traceback (most recent call last)",
      "Cell \u001b[0;32mIn[14], line 1\u001b[0m\n\u001b[0;32m----> 1\u001b[0m state_pw,energy_pw \u001b[38;5;241m=\u001b[39m \u001b[43mdmrg_solver\u001b[49m(H_mpo, bond_dims\u001b[38;5;241m=\u001b[39m[\u001b[38;5;241m10\u001b[39m, \u001b[38;5;241m16\u001b[39m, \u001b[38;5;241m20\u001b[39m, \u001b[38;5;241m20\u001b[39m, \u001b[38;5;241m20\u001b[39m], cutoffs\u001b[38;5;241m=\u001b[39m\u001b[38;5;241m1e-12\u001b[39m)\n",
      "\u001b[0;31mNameError\u001b[0m: name 'dmrg_solver' is not defined"
     ]
    }
   ],
   "source": [
    "state_pw,energy_pw = dmrg_solver(H_mpo, bond_dims=[10, 16, 20, 20, 20], cutoffs=1e-12)\n"
   ]
  },
  {
   "cell_type": "code",
   "execution_count": null,
   "metadata": {},
   "outputs": [],
   "source": []
  },
  {
   "cell_type": "code",
   "execution_count": null,
   "metadata": {},
   "outputs": [],
   "source": []
  },
  {
   "cell_type": "code",
   "execution_count": null,
   "metadata": {},
   "outputs": [],
   "source": []
  },
  {
   "cell_type": "code",
   "execution_count": null,
   "metadata": {},
   "outputs": [],
   "source": []
  },
  {
   "cell_type": "code",
   "execution_count": null,
   "metadata": {},
   "outputs": [],
   "source": []
  },
  {
   "cell_type": "code",
   "execution_count": null,
   "metadata": {},
   "outputs": [],
   "source": []
  },
  {
   "cell_type": "code",
   "execution_count": null,
   "metadata": {},
   "outputs": [],
   "source": []
  },
  {
   "cell_type": "code",
   "execution_count": null,
   "metadata": {},
   "outputs": [],
   "source": []
  },
  {
   "cell_type": "markdown",
   "metadata": {},
   "source": [
    "# DMRG large molecule"
   ]
  },
  {
   "cell_type": "code",
   "execution_count": 2,
   "metadata": {},
   "outputs": [
    {
     "data": {
      "text/plain": [
       "['H2O', 'LiH', 'H4_square', 'H3_triangle']"
      ]
     },
     "execution_count": 2,
     "metadata": {},
     "output_type": "execute_result"
    }
   ],
   "source": [
    "## import file from the currrent dir\n",
    "cwd = os.getcwd()+'/mol'\n",
    "files = [f for f in os.listdir(cwd) if os.path.isdir(os.path.join(cwd, f))]\n",
    "files"
   ]
  },
  {
   "cell_type": "code",
   "execution_count": 3,
   "metadata": {},
   "outputs": [
    {
     "data": {
      "text/plain": [
       "'H3_triangle'"
      ]
     },
     "execution_count": 3,
     "metadata": {},
     "output_type": "execute_result"
    }
   ],
   "source": [
    "selected_file = files[3]\n",
    "selected_file"
   ]
  },
  {
   "cell_type": "code",
   "execution_count": 4,
   "metadata": {},
   "outputs": [],
   "source": [
    "sub_dir = os.path.join(cwd, selected_file)\n",
    "json_data = os.path.join(sub_dir, 'chem_data.json')\n",
    "\n",
    "\n",
    "with open(json_data, 'r') as infile:\n",
    "    data = json.load(infile)"
   ]
  },
  {
   "cell_type": "code",
   "execution_count": 6,
   "metadata": {},
   "outputs": [
    {
     "data": {
      "text/plain": [
       "(4096, 4096)"
      ]
     },
     "execution_count": 6,
     "metadata": {},
     "output_type": "execute_result"
    }
   ],
   "source": [
    "basis = data['basis']\n",
    "geometry = data['geometry']\n",
    "hamiltonian = data['H']\n",
    "hamiltonian_matrix = PauliwordOp.from_dictionary(hamiltonian).to_sparse_matrix.todense()\n",
    "hamiltonian_matrix.shape"
   ]
  },
  {
   "cell_type": "code",
   "execution_count": null,
   "metadata": {},
   "outputs": [],
   "source": [
    "eigenvalues, eigenvectors = np.linalg.eigh(hamiltonian_matrix)\n",
    "eigenvalues[0]\n"
   ]
  },
  {
   "cell_type": "code",
   "execution_count": null,
   "metadata": {},
   "outputs": [],
   "source": [
    "bond_dims = [2] * 4 + [5] * 4#<-------change bond dims\n",
    "noises = [1e-4] * 4 + [1e-5] * 4 + [0]\n",
    "thrds = [1e-10] * 8\n",
    "\n",
    "\n",
    "mol = gto.M(atom=geometry, basis=basis, symmetry=None, verbose=0)\n",
    "mf = scf.RHF(mol).run(conv_tol=1E-14)\n",
    "ncas, n_elec, spin, ecore, h1e, g2e, orb_sym = itg.get_rhf_integrals(mf,\n",
    "    ncore=0, ncas=None, g2e_symm=8)\n",
    "\n",
    "driver = DMRGDriver(scratch=\"./tmp\", symm_type=SymmetryTypes.SZ, n_threads=4)\n",
    "driver.initialize_system(n_sites=ncas, n_elec=n_elec, spin=spin, orb_sym=orb_sym)\n",
    "\n",
    "mpo = driver.get_qc_mpo(h1e=h1e, g2e=g2e, ecore=ecore, iprint=0)\n",
    "\n",
    "ket = driver.get_random_mps(tag=\"GS\", bond_dim=20, nroots=1)\n",
    "energy = driver.dmrg(mpo, ket, n_sweeps=20, bond_dims=bond_dims, noises=noises,\n",
    "    thrds=thrds, iprint=0)\n",
    "print('DMRG energy = %20.15f' % energy)\n",
    "energy_100 = energy #<-------change name\n",
    "csfs, coeffs = driver.get_csf_coefficients(ket, cutoff=0.0, iprint=0)\n",
    "state_matrix = np.zeros((csfs.shape[0], mf.mol.nao*2), dtype=bool)\n",
    "for idx, det in enumerate(csfs):\n",
    "    alpha_occ_mask  = 2*np.where(det==1)[0]\n",
    "    beta_occ_mask   = 2*np.where(det==2)[0] + 1\n",
    "    double_occ_mask = np.hstack((2*np.where(det==3)[0], 2*np.where(det==3)[0]+1))\n",
    "\n",
    "    state_matrix[idx, alpha_occ_mask] = True\n",
    "    state_matrix[idx, beta_occ_mask] = True\n",
    "    state_matrix[idx, double_occ_mask] = True\n",
    "psi = QuantumState(state_matrix, coeffs).normalize#<-------change name\n"
   ]
  },
  {
   "cell_type": "code",
   "execution_count": null,
   "metadata": {},
   "outputs": [],
   "source": []
  },
  {
   "cell_type": "code",
   "execution_count": null,
   "metadata": {},
   "outputs": [],
   "source": []
  }
 ],
 "metadata": {
  "kernelspec": {
   "display_name": "ez_adiabatic",
   "language": "python",
   "name": "python3"
  },
  "language_info": {
   "codemirror_mode": {
    "name": "ipython",
    "version": 3
   },
   "file_extension": ".py",
   "mimetype": "text/x-python",
   "name": "python",
   "nbconvert_exporter": "python",
   "pygments_lexer": "ipython3",
   "version": "3.10.16"
  }
 },
 "nbformat": 4,
 "nbformat_minor": 2
}
